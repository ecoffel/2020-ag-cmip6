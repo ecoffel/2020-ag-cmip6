{
 "cells": [
  {
   "cell_type": "code",
<<<<<<< HEAD
   "execution_count": 134,
   "metadata": {},
   "outputs": [],
   "source": [
    "# import rasterio as rio\n",
=======
   "execution_count": 1,
   "metadata": {},
   "outputs": [],
   "source": [
    "import rasterio as rio\n",
>>>>>>> 7dff9cccd2bbfb439ae7e3a8894d5fe161cca80d
    "import matplotlib.pyplot as plt \n",
    "from matplotlib.colors import Normalize\n",
    "import numpy as np\n",
    "import numpy.matlib\n",
    "from scipy import interpolate\n",
    "import statsmodels.api as sm\n",
    "import statsmodels.formula.api as smf\n",
    "import scipy.stats as st\n",
    "import scipy\n",
    "import os, sys, pickle, gzip\n",
    "import datetime\n",
<<<<<<< HEAD
    "# import geopy.distance\n",
    "import xarray as xr\n",
    "import pandas as pd\n",
    "# import geopandas as gpd\n",
=======
    "import geopy.distance\n",
    "import xarray as xr\n",
    "import pandas as pd\n",
    "import geopandas as gpd\n",
>>>>>>> 7dff9cccd2bbfb439ae7e3a8894d5fe161cca80d
    "import shapely.geometry\n",
    "import shapely.ops\n",
    "import cartopy\n",
    "import cartopy.crs as ccrs\n",
    "from cartopy.io.shapereader import Reader\n",
    "from cartopy.feature import ShapelyFeature\n",
    "import itertools\n",
    "import random\n",
<<<<<<< HEAD
    "import glob\n",
    "import xesmf as xe\n",
    "# import metpy\n",
    "# from metpy.plots import USCOUNTIES\n",
    "# from pyts.decomposition import SingularSpectrumAnalysis\n",
=======
    "import metpy\n",
    "from metpy.plots import USCOUNTIES\n",
    "from pyts.decomposition import SingularSpectrumAnalysis\n",
>>>>>>> 7dff9cccd2bbfb439ae7e3a8894d5fe161cca80d
    "\n",
    "import warnings\n",
    "warnings.filterwarnings('ignore')"
   ]
  },
  {
   "cell_type": "code",
<<<<<<< HEAD
   "execution_count": 135,
   "metadata": {},
   "outputs": [
    {
     "name": "stdout",
     "output_type": "stream",
     "text": [
      "The autoreload extension is already loaded. To reload it, use:\n",
      "  %reload_ext autoreload\n"
     ]
    },
    {
     "data": {
      "text/plain": [
       "<Figure size 432x288 with 0 Axes>"
      ]
     },
     "metadata": {},
     "output_type": "display_data"
    }
   ],
   "source": [
    "run ../util/setupConsole_su"
   ]
  },
  {
   "cell_type": "code",
   "execution_count": 136,
   "metadata": {},
   "outputs": [],
   "source": [
    "# dataDir = '/dartfs-hpc/rc/lab/C/CMIG/ecoffel/data/projects/ag6'\n",
    "dataDir = '/home/edcoffel/drive/MAX-Filer/Research/Climate-01/Personal-F20/edcoffel-F20/data/projects/ag6'"
   ]
  },
  {
   "cell_type": "code",
   "execution_count": 137,
   "metadata": {},
   "outputs": [],
   "source": [
    "crop_models = ['CLM-Crop.Maize', 'EPIC-Boku.Maize', 'EPIC-IIASA.Maize', 'EPIC-TAMU.Maize', 'GEPIC.Maize', 'LPJ-GUESS.Maize', 'LPJmL.Maize', \\\n",
    "              'pAPSIM.Maize', 'pDSSAT.Maize', 'PEGASUS.Maize', 'PEPIC.Maize', 'PRYSBI2.Maize']"
   ]
  },
  {
   "cell_type": "code",
   "execution_count": 138,
   "metadata": {},
   "outputs": [],
   "source": [
    "latRange = [-90, 90]\n",
    "lonRange = [0, 360]\n",
    "regridMesh = xr.Dataset({'lat': (['lat'], np.arange(latRange[0], latRange[1], .5)),\n",
    "                         'lon': (['lon'], np.arange(lonRange[0], lonRange[1], .5)),})"
=======
   "execution_count": 2,
   "metadata": {},
   "outputs": [],
   "source": [
    "run ../util/setupConsole"
>>>>>>> 7dff9cccd2bbfb439ae7e3a8894d5fe161cca80d
   ]
  },
  {
   "cell_type": "code",
<<<<<<< HEAD
   "execution_count": 159,
   "metadata": {},
   "outputs": [],
   "source": [
    "agmip_yield = xr.Dataset()"
   ]
  },
  {
   "cell_type": "code",
   "execution_count": 160,
   "metadata": {},
   "outputs": [
    {
     "name": "stdout",
     "output_type": "stream",
     "text": [
      "opening CLM-Crop.Maize...\n",
      "loading CLM-Crop.Maize...\n",
      "regridding CLM-Crop.Maize...\n",
      "Create weight file: bilinear_360x720_360x720.nc\n",
      "Remove file bilinear_360x720_360x720.nc\n",
      "\n",
      "opening EPIC-Boku.Maize...\n",
      "loading EPIC-Boku.Maize...\n",
      "regridding EPIC-Boku.Maize...\n",
      "Create weight file: bilinear_360x720_360x720.nc\n",
      "Remove file bilinear_360x720_360x720.nc\n",
      "\n",
      "opening EPIC-IIASA.Maize...\n",
      "loading EPIC-IIASA.Maize...\n",
      "regridding EPIC-IIASA.Maize...\n",
      "Create weight file: bilinear_360x720_360x720.nc\n",
      "Remove file bilinear_360x720_360x720.nc\n",
      "\n",
      "opening EPIC-TAMU.Maize...\n",
      "loading EPIC-TAMU.Maize...\n",
      "regridding EPIC-TAMU.Maize...\n",
      "Create weight file: bilinear_360x720_360x720.nc\n",
      "Remove file bilinear_360x720_360x720.nc\n",
      "\n",
      "opening GEPIC.Maize...\n",
      "loading GEPIC.Maize...\n",
      "regridding GEPIC.Maize...\n",
      "Create weight file: bilinear_360x720_360x720.nc\n",
      "Remove file bilinear_360x720_360x720.nc\n",
      "\n",
      "opening LPJ-GUESS.Maize...\n",
      "loading LPJ-GUESS.Maize...\n",
      "regridding LPJ-GUESS.Maize...\n",
      "Create weight file: bilinear_360x720_360x720.nc\n",
      "Remove file bilinear_360x720_360x720.nc\n",
      "\n",
      "opening LPJmL.Maize...\n",
      "loading LPJmL.Maize...\n",
      "regridding LPJmL.Maize...\n",
      "Create weight file: bilinear_360x720_360x720.nc\n",
      "Remove file bilinear_360x720_360x720.nc\n",
      "\n",
      "opening pAPSIM.Maize...\n",
      "loading pAPSIM.Maize...\n",
      "regridding pAPSIM.Maize...\n",
      "Create weight file: bilinear_360x720_360x720.nc\n",
      "Remove file bilinear_360x720_360x720.nc\n",
      "\n",
      "opening pDSSAT.Maize...\n",
      "loading pDSSAT.Maize...\n",
      "regridding pDSSAT.Maize...\n",
      "Create weight file: bilinear_360x720_360x720.nc\n",
      "Remove file bilinear_360x720_360x720.nc\n",
      "\n",
      "opening PEGASUS.Maize...\n",
      "loading PEGASUS.Maize...\n",
      "regridding PEGASUS.Maize...\n",
      "Create weight file: bilinear_360x720_360x720.nc\n",
      "Remove file bilinear_360x720_360x720.nc\n",
      "\n",
      "opening PEPIC.Maize...\n",
      "loading PEPIC.Maize...\n",
      "regridding PEPIC.Maize...\n",
      "Create weight file: bilinear_360x720_360x720.nc\n",
      "Remove file bilinear_360x720_360x720.nc\n",
      "\n"
     ]
    }
   ],
   "source": [
    "for i, model in enumerate(crop_models):\n",
    "    \n",
    "    # find current model file name\n",
    "    fname = glob.glob('%s/agmip/%s/agmerra/*_hist_default_noirr_yield_mai_annual_1980_2010.nc4'%(dataDir, model))\n",
    "    \n",
    "    if len(fname) == 0:\n",
    "        continue\n",
    "    \n",
    "    print('opening %s...'%model)\n",
    "    cur_mdl_yield = xr.open_dataset(fname[0], decode_times=False)\n",
    "    \n",
    "    cur_mdl_yield.roll(lon=round(cur_mdl_yield.lon.size/2))\n",
    "    \n",
    "    print('loading %s...'%model)\n",
    "    cur_mdl_yield.load()\n",
    "    \n",
    "    print('regridding %s...'%model)\n",
    "    regridder = xe.Regridder(cur_mdl_yield, regridMesh, 'bilinear')\n",
    "    regridder.clean_weight_file()\n",
    "    cur_mdl_yield_regrid = regridder(cur_mdl_yield.yield_mai)\n",
    "    \n",
    "    if i == 0:\n",
    "        timeVar = cur_mdl_yield.time\n",
    "    \n",
    "    cur_mdl_yield_regrid_4d = np.full([1, cur_mdl_yield_regrid.shape[0], cur_mdl_yield_regrid.shape[1], cur_mdl_yield_regrid.shape[2]], np.nan)\n",
    "    cur_mdl_yield_regrid_4d[0, :, :, :] = cur_mdl_yield_regrid\n",
    "    tempDs_yield = xr.DataArray(data = cur_mdl_yield_regrid_4d,\n",
    "                          dims   = ['model', 'time', 'lat', 'lon'],\n",
    "                          coords = {'model':[crop_models[i]], 'time': timeVar, 'lat':regridMesh['lat'], 'lon':regridMesh['lon']})\n",
    "    if i == 0:\n",
    "        agmip_yield = tempDs_yield\n",
    "    else:\n",
    "        agmip_yield = xr.concat([agmip_yield, tempDs_yield], dim='model')\n",
    "    \n",
    "    print()\n",
    "# cmip6_txx_ds.to_netcdf('cmip6_txx_us.nc')\n",
    "# cmip6_t50p_ds.to_netcdf('cmip6_t50p_us.nc')\n",
    "# cmip6_monthly_mean_tx_ds.to_netcdf('cmip6_monthly_mean_tx_us.nc')"
=======
   "execution_count": 3,
   "metadata": {},
   "outputs": [],
   "source": [
    "dataDirDiscovery = '/dartfs-hpc/rc/lab/C/CMIG/ecoffel/data/projects/ag6'"
>>>>>>> 7dff9cccd2bbfb439ae7e3a8894d5fe161cca80d
   ]
  },
  {
   "cell_type": "code",
<<<<<<< HEAD
   "execution_count": 161,
   "metadata": {},
   "outputs": [],
   "source": [
    "y = agmip_yield.sel(lat=slice(30,45), lon=slice(255, 285))"
=======
   "execution_count": 8,
   "metadata": {},
   "outputs": [],
   "source": [
    "maize_clm_crop_firr_yield = xr.open_dataset('%s/agmip/CLM-Crop.Maize/agmerra/clm-crop_agmerra_hist_default_firr_yield_mai_annual_1980_2010.nc4'%dataDirDiscovery, decode_times=False)\n",
    "maize_clm_crop_noirr_yield = xr.open_dataset('%s/agmip/CLM-Crop.Maize/agmerra/clm-crop_agmerra_hist_default_noirr_yield_mai_annual_1980_2010.nc4'%dataDirDiscovery, decode_times=False)"
>>>>>>> 7dff9cccd2bbfb439ae7e3a8894d5fe161cca80d
   ]
  },
  {
   "cell_type": "code",
<<<<<<< HEAD
   "execution_count": 162,
   "metadata": {},
   "outputs": [
    {
     "name": "stdout",
     "output_type": "stream",
     "text": [
      "[6.51143187 0.01844019] 0.10338129837999381\n",
      "[ 7.64446542e+00 -4.29526396e-03] 0.8246485397523862\n",
      "[6.7211235  0.01139826] 0.3619175427108765\n",
      "[5.84589452e+00 3.01526611e-03] 0.8704301452265768\n",
      "[6.47546762 0.01334189] 0.42927744437916326\n",
      "[2.4897099 0.0073824] 0.03792438813053341\n",
      "[4.55104512 0.01186989] 0.3268808785774131\n",
      "[5.73300611 0.01902838] 0.28404966930588416\n",
      "[9.73836985e+00 7.92866187e-03] 0.787273254607165\n",
      "[10.87283288  0.02916741] 0.14227616125036968\n",
      "[ 8.04887691e+00 -4.43219527e-04] 0.9819030007553824\n"
     ]
    }
   ],
   "source": [
    "for m in range(y.shape[0]):\n",
    "    X = sm.add_constant(range(y.shape[1]))\n",
    "    mdl = sm.OLS(np.nanmean(np.nanmean(y[m,:,:,:], axis=2), axis=1), X).fit()\n",
    "    print(mdl.params, mdl.pvalues[1])\n"
   ]
  },
  {
   "cell_type": "code",
   "execution_count": 163,
=======
   "execution_count": 18,
>>>>>>> 7dff9cccd2bbfb439ae7e3a8894d5fe161cca80d
   "metadata": {},
   "outputs": [
    {
     "data": {
      "text/plain": [
<<<<<<< HEAD
       "<matplotlib.collections.QuadMesh at 0x7f0617360af0>"
      ]
     },
     "execution_count": 163,
=======
       "<matplotlib.collections.QuadMesh at 0x2b52f6816208>"
      ]
     },
     "execution_count": 18,
>>>>>>> 7dff9cccd2bbfb439ae7e3a8894d5fe161cca80d
     "metadata": {},
     "output_type": "execute_result"
    },
    {
     "data": {
<<<<<<< HEAD
      "image/png": "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\n",
=======
      "image/png": "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\n",
>>>>>>> 7dff9cccd2bbfb439ae7e3a8894d5fe161cca80d
      "text/plain": [
       "<Figure size 432x288 with 2 Axes>"
      ]
     },
     "metadata": {
      "needs_background": "light"
     },
     "output_type": "display_data"
    }
   ],
   "source": [
<<<<<<< HEAD
    "y.mean(dim='time').mean(dim='model').plot()"
   ]
  },
  {
   "cell_type": "code",
   "execution_count": 19,
   "metadata": {},
   "outputs": [
    {
     "name": "stdout",
     "output_type": "stream",
     "text": [
      "Data retrieved from http://thredds.atmos.albany.edu:8080/thredds/fileServer/CLIMLAB/ozone/apeozone_cam3_5_54.nc and saved locally.\n",
      "Integrating for 365 steps, 365.2422 days, or 1 years.\n",
      "Total elapsed time is 0.9993368783782377 years.\n",
      "[0.03631771]\n"
     ]
    }
   ],
   "source": [
    "import climlab\n",
    "alb = 0.25\n",
    "#  State variables (Air and surface temperature)\n",
    "state = climlab.column_state(num_lev=30)\n",
    "#  Parent model process\n",
    "rcm = climlab.TimeDependentProcess(state=state)\n",
    "#  Fixed relative humidity\n",
    "h2o = climlab.radiation.ManabeWaterVapor(state=state)\n",
    "#  Couple water vapor to radiation\n",
    "rad = climlab.radiation.RRTMG(state=state, specific_humidity=h2o.q, albedo=alb)\n",
    "#  Convective adjustment\n",
    "conv = climlab.convection.ConvectiveAdjustment(state=state, adj_lapse_rate=6.5)\n",
    "#  Couple everything together\n",
    "rcm.add_subprocess('Radiation', rad)\n",
    "rcm.add_subprocess('WaterVapor', h2o)\n",
    "rcm.add_subprocess('Convection', conv)\n",
    "#  Run the model\n",
    "rcm.integrate_years(1)\n",
    "#  Check for energy balance\n",
    "print(rcm.ASR - rcm.OLR)"
=======
    "diff = maize_clm_crop_firr_yield.yield_mai.mean(dim='time') - maize_clm_crop_noirr_yield.yield_mai.mean(dim='time')\n",
    "diff.plot()"
>>>>>>> 7dff9cccd2bbfb439ae7e3a8894d5fe161cca80d
   ]
  },
  {
   "cell_type": "code",
   "execution_count": null,
   "metadata": {},
   "outputs": [],
   "source": []
  }
 ],
 "metadata": {
  "kernelspec": {
<<<<<<< HEAD
   "display_name": "ecoffel",
=======
   "display_name": "Python ecoffel",
>>>>>>> 7dff9cccd2bbfb439ae7e3a8894d5fe161cca80d
   "language": "python",
   "name": "ecoffel"
  },
  "language_info": {
   "codemirror_mode": {
    "name": "ipython",
    "version": 3
   },
   "file_extension": ".py",
   "mimetype": "text/x-python",
   "name": "python",
   "nbconvert_exporter": "python",
   "pygments_lexer": "ipython3",
<<<<<<< HEAD
   "version": "3.8.5"
=======
   "version": "3.6.10"
>>>>>>> 7dff9cccd2bbfb439ae7e3a8894d5fe161cca80d
  }
 },
 "nbformat": 4,
 "nbformat_minor": 4
}
