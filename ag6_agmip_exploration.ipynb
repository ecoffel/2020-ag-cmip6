{
 "cells": [
  {
   "cell_type": "code",
   "execution_count": 134,
   "metadata": {},
   "outputs": [],
   "source": [
    "# import rasterio as rio\n",
    "import matplotlib.pyplot as plt \n",
    "from matplotlib.colors import Normalize\n",
    "import numpy as np\n",
    "import numpy.matlib\n",
    "from scipy import interpolate\n",
    "import statsmodels.api as sm\n",
    "import statsmodels.formula.api as smf\n",
    "import scipy.stats as st\n",
    "import scipy\n",
    "import os, sys, pickle, gzip\n",
    "import datetime\n",
    "# import geopy.distance\n",
    "import xarray as xr\n",
    "import pandas as pd\n",
    "# import geopandas as gpd\n",
    "import shapely.geometry\n",
    "import shapely.ops\n",
    "import cartopy\n",
    "import cartopy.crs as ccrs\n",
    "from cartopy.io.shapereader import Reader\n",
    "from cartopy.feature import ShapelyFeature\n",
    "import itertools\n",
    "import random\n",
    "import glob\n",
    "import xesmf as xe\n",
    "# import metpy\n",
    "# from metpy.plots import USCOUNTIES\n",
    "# from pyts.decomposition import SingularSpectrumAnalysis\n",
    "\n",
    "import warnings\n",
    "warnings.filterwarnings('ignore')"
   ]
  },
  {
   "cell_type": "code",
   "execution_count": 135,
   "metadata": {},
   "outputs": [
    {
     "name": "stdout",
     "output_type": "stream",
     "text": [
      "The autoreload extension is already loaded. To reload it, use:\n",
      "  %reload_ext autoreload\n"
     ]
    },
    {
     "data": {
      "text/plain": [
       "<Figure size 432x288 with 0 Axes>"
      ]
     },
     "metadata": {},
     "output_type": "display_data"
    }
   ],
   "source": [
    "run ../util/setupConsole_su"
   ]
  },
  {
   "cell_type": "code",
   "execution_count": 136,
   "metadata": {},
   "outputs": [],
   "source": [
    "# dataDir = '/dartfs-hpc/rc/lab/C/CMIG/ecoffel/data/projects/ag6'\n",
    "dataDir = '/home/edcoffel/drive/MAX-Filer/Research/Climate-01/Personal-F20/edcoffel-F20/data/projects/ag6'"
   ]
  },
  {
   "cell_type": "code",
   "execution_count": 137,
   "metadata": {},
   "outputs": [],
   "source": [
    "crop_models = ['CLM-Crop.Maize', 'EPIC-Boku.Maize', 'EPIC-IIASA.Maize', 'EPIC-TAMU.Maize', 'GEPIC.Maize', 'LPJ-GUESS.Maize', 'LPJmL.Maize', \\\n",
    "              'pAPSIM.Maize', 'pDSSAT.Maize', 'PEGASUS.Maize', 'PEPIC.Maize', 'PRYSBI2.Maize']"
   ]
  },
  {
   "cell_type": "code",
   "execution_count": 138,
   "metadata": {},
   "outputs": [],
   "source": [
    "latRange = [-90, 90]\n",
    "lonRange = [0, 360]\n",
    "regridMesh = xr.Dataset({'lat': (['lat'], np.arange(latRange[0], latRange[1], .5)),\n",
    "                         'lon': (['lon'], np.arange(lonRange[0], lonRange[1], .5)),})"
   ]
  },
  {
   "cell_type": "code",
   "execution_count": 159,
   "metadata": {},
   "outputs": [],
   "source": [
    "agmip_yield = xr.Dataset()"
   ]
  },
  {
   "cell_type": "code",
   "execution_count": 160,
   "metadata": {},
   "outputs": [
    {
     "name": "stdout",
     "output_type": "stream",
     "text": [
      "opening CLM-Crop.Maize...\n",
      "loading CLM-Crop.Maize...\n",
      "regridding CLM-Crop.Maize...\n",
      "Create weight file: bilinear_360x720_360x720.nc\n",
      "Remove file bilinear_360x720_360x720.nc\n",
      "\n",
      "opening EPIC-Boku.Maize...\n",
      "loading EPIC-Boku.Maize...\n",
      "regridding EPIC-Boku.Maize...\n",
      "Create weight file: bilinear_360x720_360x720.nc\n",
      "Remove file bilinear_360x720_360x720.nc\n",
      "\n",
      "opening EPIC-IIASA.Maize...\n",
      "loading EPIC-IIASA.Maize...\n",
      "regridding EPIC-IIASA.Maize...\n",
      "Create weight file: bilinear_360x720_360x720.nc\n",
      "Remove file bilinear_360x720_360x720.nc\n",
      "\n",
      "opening EPIC-TAMU.Maize...\n",
      "loading EPIC-TAMU.Maize...\n",
      "regridding EPIC-TAMU.Maize...\n",
      "Create weight file: bilinear_360x720_360x720.nc\n",
      "Remove file bilinear_360x720_360x720.nc\n",
      "\n",
      "opening GEPIC.Maize...\n",
      "loading GEPIC.Maize...\n",
      "regridding GEPIC.Maize...\n",
      "Create weight file: bilinear_360x720_360x720.nc\n",
      "Remove file bilinear_360x720_360x720.nc\n",
      "\n",
      "opening LPJ-GUESS.Maize...\n",
      "loading LPJ-GUESS.Maize...\n",
      "regridding LPJ-GUESS.Maize...\n",
      "Create weight file: bilinear_360x720_360x720.nc\n",
      "Remove file bilinear_360x720_360x720.nc\n",
      "\n",
      "opening LPJmL.Maize...\n",
      "loading LPJmL.Maize...\n",
      "regridding LPJmL.Maize...\n",
      "Create weight file: bilinear_360x720_360x720.nc\n",
      "Remove file bilinear_360x720_360x720.nc\n",
      "\n",
      "opening pAPSIM.Maize...\n",
      "loading pAPSIM.Maize...\n",
      "regridding pAPSIM.Maize...\n",
      "Create weight file: bilinear_360x720_360x720.nc\n",
      "Remove file bilinear_360x720_360x720.nc\n",
      "\n",
      "opening pDSSAT.Maize...\n",
      "loading pDSSAT.Maize...\n",
      "regridding pDSSAT.Maize...\n",
      "Create weight file: bilinear_360x720_360x720.nc\n",
      "Remove file bilinear_360x720_360x720.nc\n",
      "\n",
      "opening PEGASUS.Maize...\n",
      "loading PEGASUS.Maize...\n",
      "regridding PEGASUS.Maize...\n",
      "Create weight file: bilinear_360x720_360x720.nc\n",
      "Remove file bilinear_360x720_360x720.nc\n",
      "\n",
      "opening PEPIC.Maize...\n",
      "loading PEPIC.Maize...\n",
      "regridding PEPIC.Maize...\n",
      "Create weight file: bilinear_360x720_360x720.nc\n",
      "Remove file bilinear_360x720_360x720.nc\n",
      "\n"
     ]
    }
   ],
   "source": [
    "for i, model in enumerate(crop_models):\n",
    "    \n",
    "    # find current model file name\n",
    "    fname = glob.glob('%s/agmip/%s/agmerra/*_hist_default_noirr_yield_mai_annual_1980_2010.nc4'%(dataDir, model))\n",
    "    \n",
    "    if len(fname) == 0:\n",
    "        continue\n",
    "    \n",
    "    print('opening %s...'%model)\n",
    "    cur_mdl_yield = xr.open_dataset(fname[0], decode_times=False)\n",
    "    \n",
    "    cur_mdl_yield.roll(lon=round(cur_mdl_yield.lon.size/2))\n",
    "    \n",
    "    print('loading %s...'%model)\n",
    "    cur_mdl_yield.load()\n",
    "    \n",
    "    print('regridding %s...'%model)\n",
    "    regridder = xe.Regridder(cur_mdl_yield, regridMesh, 'bilinear')\n",
    "    regridder.clean_weight_file()\n",
    "    cur_mdl_yield_regrid = regridder(cur_mdl_yield.yield_mai)\n",
    "    \n",
    "    if i == 0:\n",
    "        timeVar = cur_mdl_yield.time\n",
    "    \n",
    "    cur_mdl_yield_regrid_4d = np.full([1, cur_mdl_yield_regrid.shape[0], cur_mdl_yield_regrid.shape[1], cur_mdl_yield_regrid.shape[2]], np.nan)\n",
    "    cur_mdl_yield_regrid_4d[0, :, :, :] = cur_mdl_yield_regrid\n",
    "    tempDs_yield = xr.DataArray(data = cur_mdl_yield_regrid_4d,\n",
    "                          dims   = ['model', 'time', 'lat', 'lon'],\n",
    "                          coords = {'model':[crop_models[i]], 'time': timeVar, 'lat':regridMesh['lat'], 'lon':regridMesh['lon']})\n",
    "    if i == 0:\n",
    "        agmip_yield = tempDs_yield\n",
    "    else:\n",
    "        agmip_yield = xr.concat([agmip_yield, tempDs_yield], dim='model')\n",
    "    \n",
    "    print()\n",
    "# cmip6_txx_ds.to_netcdf('cmip6_txx_us.nc')\n",
    "# cmip6_t50p_ds.to_netcdf('cmip6_t50p_us.nc')\n",
    "# cmip6_monthly_mean_tx_ds.to_netcdf('cmip6_monthly_mean_tx_us.nc')"
   ]
  },
  {
   "cell_type": "code",
   "execution_count": 161,
   "metadata": {},
   "outputs": [],
   "source": [
    "y = agmip_yield.sel(lat=slice(30,45), lon=slice(255, 285))"
   ]
  },
  {
   "cell_type": "code",
   "execution_count": 162,
   "metadata": {},
   "outputs": [
    {
     "name": "stdout",
     "output_type": "stream",
     "text": [
      "[6.51143187 0.01844019] 0.10338129837999381\n",
      "[ 7.64446542e+00 -4.29526396e-03] 0.8246485397523862\n",
      "[6.7211235  0.01139826] 0.3619175427108765\n",
      "[5.84589452e+00 3.01526611e-03] 0.8704301452265768\n",
      "[6.47546762 0.01334189] 0.42927744437916326\n",
      "[2.4897099 0.0073824] 0.03792438813053341\n",
      "[4.55104512 0.01186989] 0.3268808785774131\n",
      "[5.73300611 0.01902838] 0.28404966930588416\n",
      "[9.73836985e+00 7.92866187e-03] 0.787273254607165\n",
      "[10.87283288  0.02916741] 0.14227616125036968\n",
      "[ 8.04887691e+00 -4.43219527e-04] 0.9819030007553824\n"
     ]
    }
   ],
   "source": [
    "for m in range(y.shape[0]):\n",
    "    X = sm.add_constant(range(y.shape[1]))\n",
    "    mdl = sm.OLS(np.nanmean(np.nanmean(y[m,:,:,:], axis=2), axis=1), X).fit()\n",
    "    print(mdl.params, mdl.pvalues[1])\n"
   ]
  },
  {
   "cell_type": "code",
   "execution_count": 163,
   "metadata": {},
   "outputs": [
    {
     "data": {
      "text/plain": [
       "<matplotlib.collections.QuadMesh at 0x7f0617360af0>"
      ]
     },
     "execution_count": 163,
     "metadata": {},
     "output_type": "execute_result"
    },
    {
     "data": {
      "image/png": "[encoded data removed]",
      "text/plain": [
       "<Figure size 432x288 with 2 Axes>"
      ]
     },
     "metadata": {
      "needs_background": "light"
     },
     "output_type": "display_data"
    }
   ],
   "source": [
    "y.mean(dim='time').mean(dim='model').plot()"
   ]
  },
  {
   "cell_type": "code",
   "execution_count": 19,
   "metadata": {},
   "outputs": [
    {
     "name": "stdout",
     "output_type": "stream",
     "text": [
      "Data retrieved from http://thredds.atmos.albany.edu:8080/thredds/fileServer/CLIMLAB/ozone/apeozone_cam3_5_54.nc and saved locally.\n",
      "Integrating for 365 steps, 365.2422 days, or 1 years.\n",
      "Total elapsed time is 0.9993368783782377 years.\n",
      "[0.03631771]\n"
     ]
    }
   ],
   "source": [
    "import climlab\n",
    "alb = 0.25\n",
    "#  State variables (Air and surface temperature)\n",
    "state = climlab.column_state(num_lev=30)\n",
    "#  Parent model process\n",
    "rcm = climlab.TimeDependentProcess(state=state)\n",
    "#  Fixed relative humidity\n",
    "h2o = climlab.radiation.ManabeWaterVapor(state=state)\n",
    "#  Couple water vapor to radiation\n",
    "rad = climlab.radiation.RRTMG(state=state, specific_humidity=h2o.q, albedo=alb)\n",
    "#  Convective adjustment\n",
    "conv = climlab.convection.ConvectiveAdjustment(state=state, adj_lapse_rate=6.5)\n",
    "#  Couple everything together\n",
    "rcm.add_subprocess('Radiation', rad)\n",
    "rcm.add_subprocess('WaterVapor', h2o)\n",
    "rcm.add_subprocess('Convection', conv)\n",
    "#  Run the model\n",
    "rcm.integrate_years(1)\n",
    "#  Check for energy balance\n",
    "print(rcm.ASR - rcm.OLR)"
   ]
  },
  {
   "cell_type": "code",
   "execution_count": null,
   "metadata": {},
   "outputs": [],
   "source": []
  }
 ],
 "metadata": {
  "kernelspec": {
   "display_name": "ecoffel",
   "language": "python",
   "name": "ecoffel"
  },
  "language_info": {
   "codemirror_mode": {
    "name": "ipython",
    "version": 3
   },
   "file_extension": ".py",
   "mimetype": "text/x-python",
   "name": "python",
   "nbconvert_exporter": "python",
   "pygments_lexer": "ipython3",
   "version": "3.8.5"
  }
 },
 "nbformat": 4,
 "nbformat_minor": 4
}
