{
 "cells": [
  {
   "cell_type": "code",
   "execution_count": 46,
   "metadata": {},
   "outputs": [],
   "source": [
    "import rasterio as rio\n",
    "import matplotlib.pyplot as plt \n",
    "import numpy as np\n",
    "import numpy.matlib\n",
    "from scipy import interpolate\n",
    "import statsmodels.api as sm\n",
    "import scipy.stats as st\n",
    "import os, sys, pickle, gzip\n",
    "import datetime\n",
    "import geopy.distance\n",
    "import xarray as xr\n",
    "import xesmf as xe\n",
    "import cartopy.crs as ccrs\n",
    "import glob\n"
   ]
  },
  {
   "cell_type": "code",
   "execution_count": 34,
   "metadata": {},
   "outputs": [
    {
     "name": "stdout",
     "output_type": "stream",
     "text": [
      "The autoreload extension is already loaded. To reload it, use:\n",
      "  %reload_ext autoreload\n"
     ]
    },
    {
     "data": {
      "text/plain": [
       "<Figure size 432x288 with 0 Axes>"
      ]
     },
     "metadata": {},
     "output_type": "display_data"
    }
   ],
   "source": [
    "run ../util/setupConsole_su"
   ]
  },
  {
   "cell_type": "code",
   "execution_count": 35,
   "metadata": {},
   "outputs": [],
   "source": [
    "# dirAgData = '/dartfs-hpc/rc/lab/C/CMIG/ecoffel/data/projects/ag-land-climate'\n",
    "\n",
    "dirAgData = '/home/edcoffel/drive/MAX-Filer/Research/Climate-01/Personal-F20/edcoffel-F20/data/projects/ag-land-climate'\n",
    "dirEra5 = '/home/edcoffel/drive/MAX-Filer/Research/Climate-02/Data-02-edcoffel-F20/ERA5'\n",
    "\n",
    "heatwave_pct = 90\n",
    "\n",
    "crop = 'Maize'\n",
    "wxData = 'era5'\n",
    "\n",
    "years = [1979, 2019]"
   ]
  },
  {
   "cell_type": "code",
   "execution_count": 36,
   "metadata": {},
   "outputs": [],
   "source": [
    "sacksMaizeNc = xr.open_dataset('%s/sacks/Maize.crop.calendar.fill.nc'%dirAgData)\n",
    "sacksStart = sacksMaizeNc['plant'].values\n",
    "sacksStart = np.roll(sacksStart, -int(sacksStart.shape[1]/2), axis=1)\n",
    "sacksStart[sacksStart < 0] = np.nan\n",
    "sacksEnd = sacksMaizeNc['harvest'].values\n",
    "sacksEnd = np.roll(sacksEnd, -int(sacksEnd.shape[1]/2), axis=1)\n",
    "sacksEnd[sacksEnd < 0] = np.nan\n",
    "\n",
    "sacksLat = np.linspace(90, -90, 360)\n",
    "sacksLon = np.linspace(0, 360, 720)"
   ]
  },
  {
   "cell_type": "code",
   "execution_count": 39,
   "metadata": {},
   "outputs": [
    {
     "data": {
      "text/html": [
       "<div><svg style=\"position: absolute; width: 0; height: 0; overflow: hidden\">\n",
       "<defs>\n",
       "<symbol id=\"icon-database\" viewBox=\"0 0 32 32\">\n",
       "<path d=\"M16 0c-8.837 0-16 2.239-16 5v4c0 2.761 7.163 5 16 5s16-2.239 16-5v-4c0-2.761-7.163-5-16-5z\"></path>\n",
       "<path d=\"M16 17c-8.837 0-16-2.239-16-5v6c0 2.761 7.163 5 16 5s16-2.239 16-5v-6c0 2.761-7.163 5-16 5z\"></path>\n",
       "<path d=\"M16 26c-8.837 0-16-2.239-16-5v6c0 2.761 7.163 5 16 5s16-2.239 16-5v-6c0 2.761-7.163 5-16 5z\"></path>\n",
       "</symbol>\n",
       "<symbol id=\"icon-file-text2\" viewBox=\"0 0 32 32\">\n",
       "<path d=\"M28.681 7.159c-0.694-0.947-1.662-2.053-2.724-3.116s-2.169-2.030-3.116-2.724c-1.612-1.182-2.393-1.319-2.841-1.319h-15.5c-1.378 0-2.5 1.121-2.5 2.5v27c0 1.378 1.122 2.5 2.5 2.5h23c1.378 0 2.5-1.122 2.5-2.5v-19.5c0-0.448-0.137-1.23-1.319-2.841zM24.543 5.457c0.959 0.959 1.712 1.825 2.268 2.543h-4.811v-4.811c0.718 0.556 1.584 1.309 2.543 2.268zM28 29.5c0 0.271-0.229 0.5-0.5 0.5h-23c-0.271 0-0.5-0.229-0.5-0.5v-27c0-0.271 0.229-0.5 0.5-0.5 0 0 15.499-0 15.5 0v7c0 0.552 0.448 1 1 1h7v19.5z\"></path>\n",
       "<path d=\"M23 26h-14c-0.552 0-1-0.448-1-1s0.448-1 1-1h14c0.552 0 1 0.448 1 1s-0.448 1-1 1z\"></path>\n",
       "<path d=\"M23 22h-14c-0.552 0-1-0.448-1-1s0.448-1 1-1h14c0.552 0 1 0.448 1 1s-0.448 1-1 1z\"></path>\n",
       "<path d=\"M23 18h-14c-0.552 0-1-0.448-1-1s0.448-1 1-1h14c0.552 0 1 0.448 1 1s-0.448 1-1 1z\"></path>\n",
       "</symbol>\n",
       "</defs>\n",
       "</svg>\n",
       "<style>/* CSS stylesheet for displaying xarray objects in jupyterlab.\n",
       " *\n",
       " */\n",
       "\n",
       ":root {\n",
       "  --xr-font-color0: var(--jp-content-font-color0, rgba(0, 0, 0, 1));\n",
       "  --xr-font-color2: var(--jp-content-font-color2, rgba(0, 0, 0, 0.54));\n",
       "  --xr-font-color3: var(--jp-content-font-color3, rgba(0, 0, 0, 0.38));\n",
       "  --xr-border-color: var(--jp-border-color2, #e0e0e0);\n",
       "  --xr-disabled-color: var(--jp-layout-color3, #bdbdbd);\n",
       "  --xr-background-color: var(--jp-layout-color0, white);\n",
       "  --xr-background-color-row-even: var(--jp-layout-color1, white);\n",
       "  --xr-background-color-row-odd: var(--jp-layout-color2, #eeeeee);\n",
       "}\n",
       "\n",
       "html[theme=dark],\n",
       "body.vscode-dark {\n",
       "  --xr-font-color0: rgba(255, 255, 255, 1);\n",
       "  --xr-font-color2: rgba(255, 255, 255, 0.54);\n",
       "  --xr-font-color3: rgba(255, 255, 255, 0.38);\n",
       "  --xr-border-color: #1F1F1F;\n",
       "  --xr-disabled-color: #515151;\n",
       "  --xr-background-color: #111111;\n",
       "  --xr-background-color-row-even: #111111;\n",
       "  --xr-background-color-row-odd: #313131;\n",
       "}\n",
       "\n",
       ".xr-wrap {\n",
       "  display: block;\n",
       "  min-width: 300px;\n",
       "  max-width: 700px;\n",
       "}\n",
       "\n",
       ".xr-text-repr-fallback {\n",
       "  /* fallback to plain text repr when CSS is not injected (untrusted notebook) */\n",
       "  display: none;\n",
       "}\n",
       "\n",
       ".xr-header {\n",
       "  padding-top: 6px;\n",
       "  padding-bottom: 6px;\n",
       "  margin-bottom: 4px;\n",
       "  border-bottom: solid 1px var(--xr-border-color);\n",
       "}\n",
       "\n",
       ".xr-header > div,\n",
       ".xr-header > ul {\n",
       "  display: inline;\n",
       "  margin-top: 0;\n",
       "  margin-bottom: 0;\n",
       "}\n",
       "\n",
       ".xr-obj-type,\n",
       ".xr-array-name {\n",
       "  margin-left: 2px;\n",
       "  margin-right: 10px;\n",
       "}\n",
       "\n",
       ".xr-obj-type {\n",
       "  color: var(--xr-font-color2);\n",
       "}\n",
       "\n",
       ".xr-sections {\n",
       "  padding-left: 0 !important;\n",
       "  display: grid;\n",
       "  grid-template-columns: 150px auto auto 1fr 20px 20px;\n",
       "}\n",
       "\n",
       ".xr-section-item {\n",
       "  display: contents;\n",
       "}\n",
       "\n",
       ".xr-section-item input {\n",
       "  display: none;\n",
       "}\n",
       "\n",
       ".xr-section-item input + label {\n",
       "  color: var(--xr-disabled-color);\n",
       "}\n",
       "\n",
       ".xr-section-item input:enabled + label {\n",
       "  cursor: pointer;\n",
       "  color: var(--xr-font-color2);\n",
       "}\n",
       "\n",
       ".xr-section-item input:enabled + label:hover {\n",
       "  color: var(--xr-font-color0);\n",
       "}\n",
       "\n",
       ".xr-section-summary {\n",
       "  grid-column: 1;\n",
       "  color: var(--xr-font-color2);\n",
       "  font-weight: 500;\n",
       "}\n",
       "\n",
       ".xr-section-summary > span {\n",
       "  display: inline-block;\n",
       "  padding-left: 0.5em;\n",
       "}\n",
       "\n",
       ".xr-section-summary-in:disabled + label {\n",
       "  color: var(--xr-font-color2);\n",
       "}\n",
       "\n",
       ".xr-section-summary-in + label:before {\n",
       "  display: inline-block;\n",
       "  content: '►';\n",
       "  font-size: 11px;\n",
       "  width: 15px;\n",
       "  text-align: center;\n",
       "}\n",
       "\n",
       ".xr-section-summary-in:disabled + label:before {\n",
       "  color: var(--xr-disabled-color);\n",
       "}\n",
       "\n",
       ".xr-section-summary-in:checked + label:before {\n",
       "  content: '▼';\n",
       "}\n",
       "\n",
       ".xr-section-summary-in:checked + label > span {\n",
       "  display: none;\n",
       "}\n",
       "\n",
       ".xr-section-summary,\n",
       ".xr-section-inline-details {\n",
       "  padding-top: 4px;\n",
       "  padding-bottom: 4px;\n",
       "}\n",
       "\n",
       ".xr-section-inline-details {\n",
       "  grid-column: 2 / -1;\n",
       "}\n",
       "\n",
       ".xr-section-details {\n",
       "  display: none;\n",
       "  grid-column: 1 / -1;\n",
       "  margin-bottom: 5px;\n",
       "}\n",
       "\n",
       ".xr-section-summary-in:checked ~ .xr-section-details {\n",
       "  display: contents;\n",
       "}\n",
       "\n",
       ".xr-array-wrap {\n",
       "  grid-column: 1 / -1;\n",
       "  display: grid;\n",
       "  grid-template-columns: 20px auto;\n",
       "}\n",
       "\n",
       ".xr-array-wrap > label {\n",
       "  grid-column: 1;\n",
       "  vertical-align: top;\n",
       "}\n",
       "\n",
       ".xr-preview {\n",
       "  color: var(--xr-font-color3);\n",
       "}\n",
       "\n",
       ".xr-array-preview,\n",
       ".xr-array-data {\n",
       "  padding: 0 5px !important;\n",
       "  grid-column: 2;\n",
       "}\n",
       "\n",
       ".xr-array-data,\n",
       ".xr-array-in:checked ~ .xr-array-preview {\n",
       "  display: none;\n",
       "}\n",
       "\n",
       ".xr-array-in:checked ~ .xr-array-data,\n",
       ".xr-array-preview {\n",
       "  display: inline-block;\n",
       "}\n",
       "\n",
       ".xr-dim-list {\n",
       "  display: inline-block !important;\n",
       "  list-style: none;\n",
       "  padding: 0 !important;\n",
       "  margin: 0;\n",
       "}\n",
       "\n",
       ".xr-dim-list li {\n",
       "  display: inline-block;\n",
       "  padding: 0;\n",
       "  margin: 0;\n",
       "}\n",
       "\n",
       ".xr-dim-list:before {\n",
       "  content: '(';\n",
       "}\n",
       "\n",
       ".xr-dim-list:after {\n",
       "  content: ')';\n",
       "}\n",
       "\n",
       ".xr-dim-list li:not(:last-child):after {\n",
       "  content: ',';\n",
       "  padding-right: 5px;\n",
       "}\n",
       "\n",
       ".xr-has-index {\n",
       "  font-weight: bold;\n",
       "}\n",
       "\n",
       ".xr-var-list,\n",
       ".xr-var-item {\n",
       "  display: contents;\n",
       "}\n",
       "\n",
       ".xr-var-item > div,\n",
       ".xr-var-item label,\n",
       ".xr-var-item > .xr-var-name span {\n",
       "  background-color: var(--xr-background-color-row-even);\n",
       "  margin-bottom: 0;\n",
       "}\n",
       "\n",
       ".xr-var-item > .xr-var-name:hover span {\n",
       "  padding-right: 5px;\n",
       "}\n",
       "\n",
       ".xr-var-list > li:nth-child(odd) > div,\n",
       ".xr-var-list > li:nth-child(odd) > label,\n",
       ".xr-var-list > li:nth-child(odd) > .xr-var-name span {\n",
       "  background-color: var(--xr-background-color-row-odd);\n",
       "}\n",
       "\n",
       ".xr-var-name {\n",
       "  grid-column: 1;\n",
       "}\n",
       "\n",
       ".xr-var-dims {\n",
       "  grid-column: 2;\n",
       "}\n",
       "\n",
       ".xr-var-dtype {\n",
       "  grid-column: 3;\n",
       "  text-align: right;\n",
       "  color: var(--xr-font-color2);\n",
       "}\n",
       "\n",
       ".xr-var-preview {\n",
       "  grid-column: 4;\n",
       "}\n",
       "\n",
       ".xr-var-name,\n",
       ".xr-var-dims,\n",
       ".xr-var-dtype,\n",
       ".xr-preview,\n",
       ".xr-attrs dt {\n",
       "  white-space: nowrap;\n",
       "  overflow: hidden;\n",
       "  text-overflow: ellipsis;\n",
       "  padding-right: 10px;\n",
       "}\n",
       "\n",
       ".xr-var-name:hover,\n",
       ".xr-var-dims:hover,\n",
       ".xr-var-dtype:hover,\n",
       ".xr-attrs dt:hover {\n",
       "  overflow: visible;\n",
       "  width: auto;\n",
       "  z-index: 1;\n",
       "}\n",
       "\n",
       ".xr-var-attrs,\n",
       ".xr-var-data {\n",
       "  display: none;\n",
       "  background-color: var(--xr-background-color) !important;\n",
       "  padding-bottom: 5px !important;\n",
       "}\n",
       "\n",
       ".xr-var-attrs-in:checked ~ .xr-var-attrs,\n",
       ".xr-var-data-in:checked ~ .xr-var-data {\n",
       "  display: block;\n",
       "}\n",
       "\n",
       ".xr-var-data > table {\n",
       "  float: right;\n",
       "}\n",
       "\n",
       ".xr-var-name span,\n",
       ".xr-var-data,\n",
       ".xr-attrs {\n",
       "  padding-left: 25px !important;\n",
       "}\n",
       "\n",
       ".xr-attrs,\n",
       ".xr-var-attrs,\n",
       ".xr-var-data {\n",
       "  grid-column: 1 / -1;\n",
       "}\n",
       "\n",
       "dl.xr-attrs {\n",
       "  padding: 0;\n",
       "  margin: 0;\n",
       "  display: grid;\n",
       "  grid-template-columns: 125px auto;\n",
       "}\n",
       "\n",
       ".xr-attrs dt,\n",
       ".xr-attrs dd {\n",
       "  padding: 0;\n",
       "  margin: 0;\n",
       "  float: left;\n",
       "  padding-right: 10px;\n",
       "  width: auto;\n",
       "}\n",
       "\n",
       ".xr-attrs dt {\n",
       "  font-weight: normal;\n",
       "  grid-column: 1;\n",
       "}\n",
       "\n",
       ".xr-attrs dt:hover span {\n",
       "  display: inline-block;\n",
       "  background: var(--xr-background-color);\n",
       "  padding-right: 10px;\n",
       "}\n",
       "\n",
       ".xr-attrs dd {\n",
       "  grid-column: 2;\n",
       "  white-space: pre-wrap;\n",
       "  word-break: break-all;\n",
       "}\n",
       "\n",
       ".xr-icon-database,\n",
       ".xr-icon-file-text2 {\n",
       "  display: inline-block;\n",
       "  vertical-align: middle;\n",
       "  width: 1em;\n",
       "  height: 1.5em !important;\n",
       "  stroke-width: 0;\n",
       "  stroke: currentColor;\n",
       "  fill: currentColor;\n",
       "}\n",
       "</style><pre class='xr-text-repr-fallback'>&lt;xarray.Dataset&gt;\n",
       "Dimensions:    (latitude: 721, longitude: 1440, quantile: 6)\n",
       "Coordinates:\n",
       "  * longitude  (longitude) float32 0.0 0.25 0.5 0.75 ... 359.0 359.2 359.5 359.8\n",
       "  * latitude   (latitude) float32 90.0 89.75 89.5 89.25 ... -89.5 -89.75 -90.0\n",
       "  * quantile   (quantile) float64 0.01 0.05 0.1 0.9 0.95 0.99\n",
       "Data variables:\n",
       "    mx2t       (quantile, latitude, longitude) float64 -32.6 -32.6 ... -22.42</pre><div class='xr-wrap' hidden><div class='xr-header'><div class='xr-obj-type'>xarray.Dataset</div></div><ul class='xr-sections'><li class='xr-section-item'><input id='section-1f89437f-d0a7-4622-bada-7fbfdc609c76' class='xr-section-summary-in' type='checkbox' disabled ><label for='section-1f89437f-d0a7-4622-bada-7fbfdc609c76' class='xr-section-summary'  title='Expand/collapse section'>Dimensions:</label><div class='xr-section-inline-details'><ul class='xr-dim-list'><li><span class='xr-has-index'>latitude</span>: 721</li><li><span class='xr-has-index'>longitude</span>: 1440</li><li><span class='xr-has-index'>quantile</span>: 6</li></ul></div><div class='xr-section-details'></div></li><li class='xr-section-item'><input id='section-bd88d6b1-3868-4143-a87c-cc70256de189' class='xr-section-summary-in' type='checkbox'  checked><label for='section-bd88d6b1-3868-4143-a87c-cc70256de189' class='xr-section-summary' >Coordinates: <span>(3)</span></label><div class='xr-section-inline-details'></div><div class='xr-section-details'><ul class='xr-var-list'><li class='xr-var-item'><div class='xr-var-name'><span class='xr-has-index'>longitude</span></div><div class='xr-var-dims'>(longitude)</div><div class='xr-var-dtype'>float32</div><div class='xr-var-preview xr-preview'>0.0 0.25 0.5 ... 359.2 359.5 359.8</div><input id='attrs-b598a51e-0498-477b-894c-fec89f0d4605' class='xr-var-attrs-in' type='checkbox' ><label for='attrs-b598a51e-0498-477b-894c-fec89f0d4605' title='Show/Hide attributes'><svg class='icon xr-icon-file-text2'><use xlink:href='#icon-file-text2'></use></svg></label><input id='data-77aeeeea-0f3b-45c6-9788-ab204e582675' class='xr-var-data-in' type='checkbox'><label for='data-77aeeeea-0f3b-45c6-9788-ab204e582675' title='Show/Hide data repr'><svg class='icon xr-icon-database'><use xlink:href='#icon-database'></use></svg></label><div class='xr-var-attrs'><dl class='xr-attrs'><dt><span>units :</span></dt><dd>degrees_east</dd><dt><span>long_name :</span></dt><dd>longitude</dd></dl></div><div class='xr-var-data'><pre>array([0.0000e+00, 2.5000e-01, 5.0000e-01, ..., 3.5925e+02, 3.5950e+02,\n",
       "       3.5975e+02], dtype=float32)</pre></div></li><li class='xr-var-item'><div class='xr-var-name'><span class='xr-has-index'>latitude</span></div><div class='xr-var-dims'>(latitude)</div><div class='xr-var-dtype'>float32</div><div class='xr-var-preview xr-preview'>90.0 89.75 89.5 ... -89.75 -90.0</div><input id='attrs-a8b0515f-e6cc-4751-8dc0-7804c3846bf3' class='xr-var-attrs-in' type='checkbox' ><label for='attrs-a8b0515f-e6cc-4751-8dc0-7804c3846bf3' title='Show/Hide attributes'><svg class='icon xr-icon-file-text2'><use xlink:href='#icon-file-text2'></use></svg></label><input id='data-824d2d89-eced-48be-9077-a51b200dc58f' class='xr-var-data-in' type='checkbox'><label for='data-824d2d89-eced-48be-9077-a51b200dc58f' title='Show/Hide data repr'><svg class='icon xr-icon-database'><use xlink:href='#icon-database'></use></svg></label><div class='xr-var-attrs'><dl class='xr-attrs'><dt><span>units :</span></dt><dd>degrees_north</dd><dt><span>long_name :</span></dt><dd>latitude</dd></dl></div><div class='xr-var-data'><pre>array([ 90.  ,  89.75,  89.5 , ..., -89.5 , -89.75, -90.  ], dtype=float32)</pre></div></li><li class='xr-var-item'><div class='xr-var-name'><span class='xr-has-index'>quantile</span></div><div class='xr-var-dims'>(quantile)</div><div class='xr-var-dtype'>float64</div><div class='xr-var-preview xr-preview'>0.01 0.05 0.1 0.9 0.95 0.99</div><input id='attrs-e4299a0f-f5a2-4ab7-a48a-a9102bf65297' class='xr-var-attrs-in' type='checkbox' disabled><label for='attrs-e4299a0f-f5a2-4ab7-a48a-a9102bf65297' title='Show/Hide attributes'><svg class='icon xr-icon-file-text2'><use xlink:href='#icon-file-text2'></use></svg></label><input id='data-640ec624-ed86-4f18-93b4-323156408bcd' class='xr-var-data-in' type='checkbox'><label for='data-640ec624-ed86-4f18-93b4-323156408bcd' title='Show/Hide data repr'><svg class='icon xr-icon-database'><use xlink:href='#icon-database'></use></svg></label><div class='xr-var-attrs'><dl class='xr-attrs'></dl></div><div class='xr-var-data'><pre>array([0.01, 0.05, 0.1 , 0.9 , 0.95, 0.99])</pre></div></li></ul></div></li><li class='xr-section-item'><input id='section-5a3c8b6a-1139-4181-be74-4e46a94f5f58' class='xr-section-summary-in' type='checkbox'  checked><label for='section-5a3c8b6a-1139-4181-be74-4e46a94f5f58' class='xr-section-summary' >Data variables: <span>(1)</span></label><div class='xr-section-inline-details'></div><div class='xr-section-details'><ul class='xr-var-list'><li class='xr-var-item'><div class='xr-var-name'><span>mx2t</span></div><div class='xr-var-dims'>(quantile, latitude, longitude)</div><div class='xr-var-dtype'>float64</div><div class='xr-var-preview xr-preview'>-32.6 -32.6 -32.6 ... -22.42 -22.42</div><input id='attrs-de1dccb6-5fd3-414d-937c-582f811bd422' class='xr-var-attrs-in' type='checkbox' disabled><label for='attrs-de1dccb6-5fd3-414d-937c-582f811bd422' title='Show/Hide attributes'><svg class='icon xr-icon-file-text2'><use xlink:href='#icon-file-text2'></use></svg></label><input id='data-c36c3048-9394-4ffa-945b-51bcb4c4a030' class='xr-var-data-in' type='checkbox'><label for='data-c36c3048-9394-4ffa-945b-51bcb4c4a030' title='Show/Hide data repr'><svg class='icon xr-icon-database'><use xlink:href='#icon-database'></use></svg></label><div class='xr-var-attrs'><dl class='xr-attrs'></dl></div><div class='xr-var-data'><pre>array([[[-32.60486099, -32.60486099, -32.60486099, ..., -32.60486099,\n",
       "         -32.60486099, -32.60486099],\n",
       "        [-32.63840586, -32.63712776, -32.63712776, ..., -32.63839942,\n",
       "         -32.63839942, -32.63787717],\n",
       "        [-32.61376966, -32.61283642, -32.61157657, ..., -32.61820191,\n",
       "         -32.61672449, -32.61472507],\n",
       "        ...,\n",
       "        [-59.60096789, -59.59848514, -59.59115213, ..., -59.62108626,\n",
       "         -59.6133185 , -59.60649643],\n",
       "        [-60.07656065, -60.07522774, -60.07124753, ..., -60.07958039,\n",
       "         -60.08053723, -60.07953212],\n",
       "        [-61.17656065, -61.17656065, -61.17656065, ..., -61.17656065,\n",
       "         -61.17656065, -61.17656065]],\n",
       "\n",
       "       [[-29.10414359, -29.10414359, -29.10414359, ..., -29.10414359,\n",
       "         -29.10414359, -29.10414359],\n",
       "        [-29.08778528, -29.08838857, -29.08897139, ..., -29.08722291,\n",
       "         -29.08780574, -29.08778528],\n",
       "        [-28.95522226, -28.95494401, -28.95488693, ..., -28.95208553,\n",
       "         -28.95226179, -28.95226179],\n",
       "...\n",
       "        [-26.3275269 , -26.32877213, -26.33197182, ..., -26.32611572,\n",
       "         -26.32604428, -26.3275269 ],\n",
       "        [-26.42546886, -26.42546886, -26.4249767 , ..., -26.42665763,\n",
       "         -26.42665763, -26.42606324],\n",
       "        [-26.55931704, -26.55931704, -26.55931704, ..., -26.55931704,\n",
       "         -26.55931704, -26.55931704]],\n",
       "\n",
       "       [[  1.44295999,   1.44295999,   1.44550696, ...,   1.44295999,\n",
       "           1.44295999,   1.44295999],\n",
       "        [  1.45611692,   1.45611692,   1.45765115, ...,   1.45466234,\n",
       "           1.45466234,   1.45466234],\n",
       "        [  1.46316632,   1.46261886,   1.46285549, ...,   1.46297875,\n",
       "           1.46202384,   1.46316632],\n",
       "        ...,\n",
       "        [-22.2086405 , -22.21161193, -22.21258142, ..., -22.20699847,\n",
       "         -22.2061853 , -22.20715478],\n",
       "        [-22.33142688, -22.33339269, -22.3348625 , ..., -22.32657398,\n",
       "         -22.32801753, -22.32998333],\n",
       "        [-22.41711602, -22.41711602, -22.41711602, ..., -22.41711602,\n",
       "         -22.41711602, -22.41711602]]])</pre></div></li></ul></div></li><li class='xr-section-item'><input id='section-85253c45-b230-4a80-bdd0-14138f944538' class='xr-section-summary-in' type='checkbox' disabled ><label for='section-85253c45-b230-4a80-bdd0-14138f944538' class='xr-section-summary'  title='Expand/collapse section'>Attributes: <span>(0)</span></label><div class='xr-section-inline-details'></div><div class='xr-section-details'><dl class='xr-attrs'></dl></div></li></ul></div></div>"
      ],
      "text/plain": [
       "<xarray.Dataset>\n",
       "Dimensions:    (latitude: 721, longitude: 1440, quantile: 6)\n",
       "Coordinates:\n",
       "  * longitude  (longitude) float32 0.0 0.25 0.5 0.75 ... 359.0 359.2 359.5 359.8\n",
       "  * latitude   (latitude) float32 90.0 89.75 89.5 89.25 ... -89.5 -89.75 -90.0\n",
       "  * quantile   (quantile) float64 0.01 0.05 0.1 0.9 0.95 0.99\n",
       "Data variables:\n",
       "    mx2t       (quantile, latitude, longitude) float64 -32.6 -32.6 ... -22.42"
      ]
     },
     "execution_count": 39,
     "metadata": {},
     "output_type": "execute_result"
    }
   ],
   "source": [
    "era5_mx2t_quantiles = xr.open_dataset('era5_mx2t_quantiles.nc')\n",
    "era5_mx2t_quantiles.load()"
   ]
  },
  {
   "cell_type": "code",
   "execution_count": 40,
   "metadata": {},
   "outputs": [
    {
     "data": {
      "text/plain": [
       "(6, 721, 1440)"
      ]
     },
     "execution_count": 40,
     "metadata": {},
     "output_type": "execute_result"
    }
   ],
   "source": [
    "era5_mx2t_quantiles.mx2t.shape"
   ]
  },
  {
   "cell_type": "code",
   "execution_count": 43,
   "metadata": {},
   "outputs": [],
   "source": [
    "with open('growing_season_len_maize.dat', 'rb') as f:\n",
    "    growing_season_len = pickle.load(f)\n",
    "    \n",
    "with open('era5_heat_wave_days_2007.dat', 'rb') as f:\n",
    "    heatwave_days = pickle.load(f)"
   ]
  },
  {
   "cell_type": "code",
   "execution_count": 54,
   "metadata": {},
   "outputs": [
    {
     "data": {
      "text/plain": [
       "[<matplotlib.lines.Line2D at 0x7f2569aba5c0>]"
      ]
     },
     "execution_count": 54,
     "metadata": {},
     "output_type": "execute_result"
    },
    {
     "data": {
      "image/png": "[encoded data removed]",
      "text/plain": [
       "<Figure size 432x288 with 1 Axes>"
      ]
     },
     "metadata": {
      "needs_background": "light"
     },
     "output_type": "display_data"
    }
   ],
   "source": [
    "plt.plot(np.nanmean(np.nanmean(np.array([heatwave_days[:,:,i]/growing_season_len for i in range(heatwave_days.shape[2])]), axis=2), axis=1))"
   ]
  },
  {
   "cell_type": "code",
   "execution_count": 41,
   "metadata": {},
   "outputs": [],
   "source": [
    "lat = era5_mx2t_quantiles.latitude.values\n",
    "lon = era5_mx2t_quantiles.longitude.values"
   ]
  },
  {
   "cell_type": "code",
   "execution_count": 48,
   "metadata": {},
   "outputs": [
    {
     "name": "stdout",
     "output_type": "stream",
     "text": [
      "Reuse existing file: bilinear_360x720_721x1440.nc\n",
      "Reuse existing file: bilinear_360x720_721x1440.nc\n"
     ]
    }
   ],
   "source": [
    "# regrid sacks data\n",
    "\n",
    "regridMesh = xr.Dataset({'lat': (['lat'], lat),\n",
    "                         'lon': (['lon'], lon),})\n",
    "\n",
    "regridder_start = xe.Regridder(xr.DataArray(data=sacksStart, dims=['lat', 'lon'], coords={'lat':sacksLat, 'lon':sacksLon}), regridMesh, 'bilinear', reuse_weights=True)\n",
    "regridder_end = xe.Regridder(xr.DataArray(data=sacksEnd, dims=['lat', 'lon'], coords={'lat':sacksLat, 'lon':sacksLon}), regridMesh, 'bilinear', reuse_weights=True)\n",
    "\n",
    "sacksStart_regrid = regridder_start(sacksStart)\n",
    "sacksEnd_regrid = regridder_end(sacksEnd)"
   ]
  },
  {
   "cell_type": "code",
   "execution_count": 128,
   "metadata": {},
   "outputs": [],
   "source": [
    "heatwave_days = np.full([lat.size, lon.size, len(range(1979, 2018+1))], np.nan)"
   ]
  },
  {
   "cell_type": "code",
   "execution_count": 129,
   "metadata": {},
   "outputs": [],
   "source": [
    "nnLen = len(np.where(~np.isnan(np.reshape(sacksStart_regrid, [sacksStart_regrid.size, 1])))[0])"
   ]
  },
  {
   "cell_type": "code",
   "execution_count": 130,
   "metadata": {},
   "outputs": [],
   "source": [
    "# heatwave_days[:, :, y] = curTmax \\\n",
    "#                             .where(curTmax > era5_mx2t_quantiles.mx2t) \\\n",
    "#                             .count(dim='time').values"
   ]
  },
  {
   "cell_type": "code",
   "execution_count": null,
   "metadata": {},
   "outputs": [
    {
     "name": "stdout",
     "output_type": "stream",
     "text": [
      "year 1980\n",
      "0 % complete\n",
      "9 % complete\n",
      "18 % complete\n",
      "26 % complete\n",
      "35 % complete\n",
      "44 % complete\n",
      "53 % complete\n",
      "61 % complete\n",
      "70 % complete\n",
      "79 % complete\n",
      "88 % complete\n",
      "96 % complete\n",
      "year 1981\n",
      "0 % complete\n",
      "9 % complete\n",
      "18 % complete\n",
      "26 % complete\n",
      "35 % complete\n",
      "44 % complete\n",
      "53 % complete\n",
      "61 % complete\n",
      "70 % complete\n",
      "79 % complete\n",
      "88 % complete\n",
      "96 % complete\n",
      "year 1982\n",
      "0 % complete\n",
      "9 % complete\n",
      "18 % complete\n",
      "26 % complete\n",
      "35 % complete\n",
      "44 % complete\n",
      "53 % complete\n",
      "61 % complete\n",
      "70 % complete\n",
      "79 % complete\n",
      "88 % complete\n",
      "96 % complete\n",
      "year 1983\n",
      "0 % complete\n",
      "9 % complete\n"
     ]
    }
   ],
   "source": [
    "for y, year in enumerate(range(1980, 2018+1)):\n",
    "    print('year %d'%year)\n",
    "    dsMax = xr.open_dataset('%s/daily/tasmax_%d.nc'%(dirEra5, year))\n",
    "    dsMax.load()\n",
    "    dsMax['mx2t'] -= 273.15\n",
    "    \n",
    "    dsMaxLast = xr.open_dataset('%s/daily/tasmax_%d.nc'%(dirEra5, year-1))\n",
    "    dsMaxLast.load()\n",
    "    dsMaxLast['mx2t'] -= 273.15\n",
    "    \n",
    "    n = 0\n",
    "    \n",
    "    for xlat in range(len(lat)):\n",
    "\n",
    "        for ylon in range(len(lon)):\n",
    "\n",
    "            if ~np.isnan(sacksStart_regrid[xlat, ylon]) and ~np.isnan(sacksEnd_regrid[xlat, ylon]):\n",
    "\n",
    "                if n % 30000 == 0:\n",
    "                    print('%.0f %% complete'%(n/(nnLen)*100))\n",
    "\n",
    "                # in southern hemisphere when planting happens in fall and harvest happens in spring\n",
    "                if sacksStart_regrid[xlat, ylon] > sacksEnd_regrid[xlat, ylon]:\n",
    "                    curTmax = xr.concat([dsMaxLast.mx2t[int(sacksStart_regrid[xlat, ylon]):, xlat, ylon], \\\n",
    "                                         dsMax.mx2t[:int(sacksEnd_regrid[xlat, ylon]), xlat, ylon]], dim='time')\n",
    "                else:\n",
    "                    curTmax = dsMax.mx2t[int(sacksStart_regrid[xlat, ylon]):int(sacksEnd_regrid[xlat, ylon]), xlat, ylon]\n",
    "\n",
    "                heatwave_days[xlat, ylon, y] = np.where(curTmax.values > era5_mx2t_quantiles.mx2t[xlat, ylon].values)[0].size\n",
    "                n += 1\n"
   ]
  },
  {
   "cell_type": "code",
   "execution_count": 123,
   "metadata": {},
   "outputs": [
    {
     "data": {
      "text/plain": [
       "36"
      ]
     },
     "execution_count": 123,
     "metadata": {},
     "output_type": "execute_result"
    }
   ],
   "source": [
    "np.where(curTmax.values > era5_mx2t_quantiles.mx2t[xlat, ylon].values)[0].size"
   ]
  },
  {
   "cell_type": "code",
   "execution_count": 31,
   "metadata": {},
   "outputs": [
    {
     "data": {
      "text/plain": [
       "[<matplotlib.lines.Line2D at 0x7f694d13e4a8>]"
      ]
     },
     "execution_count": 31,
     "metadata": {},
     "output_type": "execute_result"
    },
    {
     "data": {
      "image/png": "[encoded data removed]",
      "text/plain": [
       "<Figure size 432x288 with 1 Axes>"
      ]
     },
     "metadata": {
      "needs_background": "light"
     },
     "output_type": "display_data"
    }
   ],
   "source": [
    "plt.plot(np.linspace(90, -90, heatwave_days.shape[0]), np.nanmean(np.nanmean(heatwave_days, axis=2), axis=1))"
   ]
  },
  {
   "cell_type": "code",
   "execution_count": null,
   "metadata": {},
   "outputs": [],
   "source": [
    "dsMax_quantile = dsMax.quantile(q=0.9, dim='time')\n",
    "dsMax_quantile.mx2t.to_netcdf('era5_mx2t_q90.nc')"
   ]
  },
  {
   "cell_type": "code",
   "execution_count": 11,
   "metadata": {},
   "outputs": [],
   "source": [
    "dsMax_quantile_midwest = dsMax_quantile.sel(latitude=slice(45,40), longitude=slice(250,260))"
   ]
  },
  {
   "cell_type": "code",
   "execution_count": null,
   "metadata": {},
   "outputs": [],
   "source": [
    "dsMax_quantile_midwest.mx2t.plot()"
   ]
  }
 ],
 "metadata": {
  "kernelspec": {
   "display_name": "ecoffel",
   "language": "python",
   "name": "ecoffel"
  },
  "language_info": {
   "codemirror_mode": {
    "name": "ipython",
    "version": 3
   },
   "file_extension": ".py",
   "mimetype": "text/x-python",
   "name": "python",
   "nbconvert_exporter": "python",
   "pygments_lexer": "ipython3",
   "version": "3.6.12"
  }
 },
 "nbformat": 4,
 "nbformat_minor": 4
}
